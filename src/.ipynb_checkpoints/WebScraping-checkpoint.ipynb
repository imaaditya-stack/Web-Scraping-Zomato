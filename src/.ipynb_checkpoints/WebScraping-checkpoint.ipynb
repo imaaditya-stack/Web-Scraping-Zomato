{
 "cells": [
  {
   "cell_type": "markdown",
   "metadata": {},
   "source": [
    "# Web Scraping\n",
    "\n",
    "Web scraping, web harvesting, or web data extraction is data scraping used for extracting data from websites. <br>\n",
    "In this notebook i have used <b>Zomato</b> Website to scrape the data of Top restuarants in my city using BeautifulSoup Library.<br>\n",
    "I have also cleaned the Scraped data and saved it in a csv format.<br>\n",
    "The Resturant data will contain <b>Name, Cuisines, Ratings, Votes, and Cost For Two People </b>\n",
    "### BeautifulSoup Documentation : https://www.crummy.com/software/BeautifulSoup/bs4/doc/\n",
    "### Important Note\n",
    "Read through the website’s Terms and Conditions to understand how you can legally use the data. Most sites prohibit you from using the data for commercial purposes."
   ]
  },
  {
   "cell_type": "code",
   "execution_count": null,
   "metadata": {},
   "outputs": [],
   "source": [
    "#Install Packages\n",
    "#!pip install beautifulsoup4\n",
    "#!pip install requests"
   ]
  },
  {
   "cell_type": "code",
   "execution_count": 1,
   "metadata": {},
   "outputs": [],
   "source": [
    "#Importing Packages\n",
    "import requests\n",
    "from bs4 import BeautifulSoup\n",
    "from pandas import DataFrame\n",
    "import numpy"
   ]
  },
  {
   "cell_type": "code",
   "execution_count": 2,
   "metadata": {},
   "outputs": [],
   "source": [
    "#Used headers/agent. \n",
    "#Using following code we can fake the agent.\n",
    "headers = {'User-Agent': 'Mozilla/5.0 (Macintosh; Intel Mac OS X 10_11_6) AppleWebKit/537.36 (KHTML, like Gecko) Chrome/61.0.3163.100 Safari/537.36'}\n",
    "response = requests.get(\"https://www.zomato.com/mumbai/ulhasnagar-restaurants\",headers=headers)"
   ]
  },
  {
   "cell_type": "code",
   "execution_count": 3,
   "metadata": {},
   "outputs": [],
   "source": [
    "content = response.content\n",
    "#BeautifulSoup Object Initialization\n",
    "soup = BeautifulSoup(content,\"html.parser\")"
   ]
  },
  {
   "cell_type": "code",
   "execution_count": null,
   "metadata": {},
   "outputs": [],
   "source": [
    "#Prinitng html doc of the webpage\n",
    "#print(soup.prettify())\n",
    "#I have commented the code because it prints the whole html doc of the webpage"
   ]
  },
  {
   "cell_type": "markdown",
   "metadata": {},
   "source": [
    "The data needs to scraped is wraped inside the div with class <b>search-snippet-card</b>"
   ]
  },
  {
   "cell_type": "code",
   "execution_count": null,
   "metadata": {},
   "outputs": [],
   "source": [
    "#top_rest = soup.find_all(\"div\",attrs={\"class\": \"search-snippet-card\"})\n",
    "#top_rest\n",
    "#I have commented the code because it prints the whole html doc of the webpage"
   ]
  },
  {
   "cell_type": "markdown",
   "metadata": {},
   "source": [
    "Now we have the whole card we will look for individual features we need to scrape which are :\n",
    "1. Name of the Restuarant\n",
    "2. Cuisines\n",
    "3. Ratings\n",
    "4. Votes\n",
    "5. Cost For Two"
   ]
  },
  {
   "cell_type": "code",
   "execution_count": 7,
   "metadata": {},
   "outputs": [
    {
     "data": {
      "text/plain": [
       "\"McDonald's\""
      ]
     },
     "execution_count": 7,
     "metadata": {},
     "output_type": "execute_result"
    }
   ],
   "source": [
    "#This line of code gives name of the restuarnt\n",
    "top_rest[0].find(\"a\",attrs={\"class\":\"result-title\"}).text.strip()"
   ]
  },
  {
   "cell_type": "code",
   "execution_count": 9,
   "metadata": {},
   "outputs": [
    {
     "data": {
      "text/plain": [
       "'Cuisines:'"
      ]
     },
     "execution_count": 9,
     "metadata": {},
     "output_type": "execute_result"
    }
   ],
   "source": [
    "#This line of code gives Votes\n",
    "top_rest[11].find(\"span\",attrs={\"class\":\"grey-text\"}).text.strip()"
   ]
  },
  {
   "cell_type": "code",
   "execution_count": 10,
   "metadata": {},
   "outputs": [
    {
     "data": {
      "text/plain": [
       "'3.9'"
      ]
     },
     "execution_count": 10,
     "metadata": {},
     "output_type": "execute_result"
    }
   ],
   "source": [
    "#This line of code gives Ratings\n",
    "top_rest[0].find(\"div\",attrs={\"class\":\"rating-popup\"}).text.strip()"
   ]
  },
  {
   "cell_type": "code",
   "execution_count": 15,
   "metadata": {},
   "outputs": [
    {
     "data": {
      "text/plain": [
       "'Burger, Fast Food'"
      ]
     },
     "execution_count": 15,
     "metadata": {},
     "output_type": "execute_result"
    }
   ],
   "source": [
    "#This line of code gives name of the restuarnt Cuisines\n",
    "top_rest[0].find(\"span\",attrs={\"class\":\"col-s-11\"}).text"
   ]
  },
  {
   "cell_type": "code",
   "execution_count": 13,
   "metadata": {},
   "outputs": [
    {
     "data": {
      "text/plain": [
       "'₹400'"
      ]
     },
     "execution_count": 13,
     "metadata": {},
     "output_type": "execute_result"
    }
   ],
   "source": [
    "#This line of code gives Cost For Two\n",
    "top_rest[0].find(\"span\",attrs={\"class\":\"col-s-11 col-m-12 pl0\"}).text"
   ]
  },
  {
   "cell_type": "markdown",
   "metadata": {},
   "source": [
    "Now we know the code to scrape the individual features we now have to scrape these features for all of the resturants. I have a created a custom class <b>Scraping</b> to do the work."
   ]
  },
  {
   "cell_type": "code",
   "execution_count": 20,
   "metadata": {},
   "outputs": [],
   "source": [
    "class Scraping:\n",
    "    \n",
    "    def __init__(self,url,headers):\n",
    "        \"\"\"\n",
    "        Param url: URL of the website\n",
    "        Param headers: User Agent\n",
    "        \"\"\"\n",
    "        self.url = url\n",
    "        self.headers = headers\n",
    "    \n",
    "    def get_data(self):\n",
    "        \"\"\"\n",
    "        This function returns scraped data in the form of a list containing dictionaries\n",
    "        \"\"\"\n",
    "        #Empty list to store the data\n",
    "        datalist = []\n",
    "        \n",
    "        #Loop through each webpage\n",
    "        #For my city Zomato has 15 webpages where each page having details of 15 restuarants\n",
    "        for page in range(15):\n",
    "            \n",
    "            #Getting request\n",
    "            response = requests.get(\"{}&page={}\".format(self.url,page+1)\n",
    "                                    ,headers=self.headers)\n",
    "            content = response.content\n",
    "            \n",
    "            #BeautifulSoup Object Initialization\n",
    "            soup = BeautifulSoup(content,\"html.parser\")\n",
    "            \n",
    "            #Getting the element from which we will find the data we required\n",
    "            top_rest = soup.find_all(\"div\",attrs={\"class\": \"search-snippet-card\"})\n",
    "            \n",
    "            #Loop through each element\n",
    "            for i in range(len(top_rest)):\n",
    "                #Empty dictionary to store the data in key-value pair\n",
    "                dataframe = {}\n",
    "                \n",
    "                #Try except blocks\n",
    "                #Try block store the data\n",
    "                #If exception occurs it will store empty string\n",
    "                \n",
    "                #Restuarant Name\n",
    "                try:\n",
    "                    dataframe['Restaurant']=top_rest[i].find(\"a\",attrs={\"class\":\"result-title\"}).text.strip()\n",
    "                except:\n",
    "                    \n",
    "                    dataframe['Restaurant']=''\n",
    "                \n",
    "                #Votes\n",
    "                try:\n",
    "                    dataframe['Votes']=top_rest[i].find(\"span\",attrs={\"class\":\"grey-text\"}).text\n",
    "                except:\n",
    "                    dataframe['Votes']=''\n",
    "                \n",
    "                #Ratings\n",
    "                try:    \n",
    "                    dataframe['Ratings']=top_rest[i].find(\"div\",attrs={\"class\":\"rating-popup\"}).text.strip()\n",
    "                except:\n",
    "                    dataframe['Ratings']=''\n",
    "                \n",
    "                #Cuisines\n",
    "                try:\n",
    "                    dataframe['Cuisines']=top_rest[i].find(\"span\",attrs={\"class\":\"col-s-11\"}).text\n",
    "                except:\n",
    "                    dataframe['Cuisines']=''\n",
    "                \n",
    "                #Cost For Two\n",
    "                try:\n",
    "                    dataframe['Cost For Two']=top_rest[i].find(\"span\",attrs={\"class\":\"col-s-11 col-m-12 pl0\"}).text\n",
    "                except:\n",
    "                    dataframe['Cost For Two']=''\n",
    "                \n",
    "                #Append each dictionary to datalist\n",
    "                datalist.append(dataframe)\n",
    "        return datalist"
   ]
  },
  {
   "cell_type": "code",
   "execution_count": 21,
   "metadata": {},
   "outputs": [],
   "source": [
    "#Creating an object of the class Scraping\n",
    "myObject = Scraping(url = \"https://www.zomato.com/mumbai/ulhasnagar-restaurants?nearby=0\",headers = headers)"
   ]
  },
  {
   "cell_type": "code",
   "execution_count": 22,
   "metadata": {},
   "outputs": [],
   "source": [
    "#Calling method get_data()\n",
    "data_in_list = myObject.get_data()"
   ]
  },
  {
   "cell_type": "code",
   "execution_count": 23,
   "metadata": {},
   "outputs": [
    {
     "data": {
      "text/plain": [
       "[{'Restaurant': \"McDonald's\",\n",
       "  'Votes': '347 votes',\n",
       "  'Ratings': '3.9',\n",
       "  'Cuisines': 'Burger, Fast Food',\n",
       "  'Cost For Two': '₹400'},\n",
       " {'Restaurant': 'Natural Ice Cream',\n",
       "  'Votes': '93 votes',\n",
       "  'Ratings': '4.0',\n",
       "  'Cuisines': 'Ice Cream, Desserts',\n",
       "  'Cost For Two': '₹300'},\n",
       " {'Restaurant': 'Jumboking',\n",
       "  'Votes': '45 votes',\n",
       "  'Ratings': '4.2',\n",
       "  'Cuisines': 'Burger, Fast Food',\n",
       "  'Cost For Two': '₹150'},\n",
       " {'Restaurant': 'Jai Mata Di Fast Food',\n",
       "  'Votes': '16 votes',\n",
       "  'Ratings': '3.4',\n",
       "  'Cuisines': 'Chinese, Fast Food',\n",
       "  'Cost For Two': '₹200'},\n",
       " {'Restaurant': 'Ming Yang',\n",
       "  'Votes': '126 votes',\n",
       "  'Ratings': '3.8',\n",
       "  'Cuisines': 'Chinese, Thai',\n",
       "  'Cost For Two': '₹950'}]"
      ]
     },
     "execution_count": 23,
     "metadata": {},
     "output_type": "execute_result"
    }
   ],
   "source": [
    "#View top 5 values\n",
    "data_in_list[:5]"
   ]
  },
  {
   "cell_type": "markdown",
   "metadata": {},
   "source": [
    "We will save the data frame data to CSV format which is easily readable."
   ]
  },
  {
   "cell_type": "code",
   "execution_count": 64,
   "metadata": {},
   "outputs": [],
   "source": [
    "#First convert the list into a dataframe\n",
    "data = DataFrame(data=data_in_list,columns=[\"Restaurant\",\"Cuisines\",\"Ratings\",\"Votes\",\"Cost For Two\"])"
   ]
  },
  {
   "cell_type": "code",
   "execution_count": 65,
   "metadata": {},
   "outputs": [
    {
     "data": {
      "text/html": [
       "<div>\n",
       "<style scoped>\n",
       "    .dataframe tbody tr th:only-of-type {\n",
       "        vertical-align: middle;\n",
       "    }\n",
       "\n",
       "    .dataframe tbody tr th {\n",
       "        vertical-align: top;\n",
       "    }\n",
       "\n",
       "    .dataframe thead th {\n",
       "        text-align: right;\n",
       "    }\n",
       "</style>\n",
       "<table border=\"1\" class=\"dataframe\">\n",
       "  <thead>\n",
       "    <tr style=\"text-align: right;\">\n",
       "      <th></th>\n",
       "      <th>Restaurant</th>\n",
       "      <th>Cuisines</th>\n",
       "      <th>Ratings</th>\n",
       "      <th>Votes</th>\n",
       "      <th>Cost For Two</th>\n",
       "    </tr>\n",
       "  </thead>\n",
       "  <tbody>\n",
       "    <tr>\n",
       "      <th>0</th>\n",
       "      <td>McDonald's</td>\n",
       "      <td>Burger, Fast Food</td>\n",
       "      <td>3.9</td>\n",
       "      <td>347 votes</td>\n",
       "      <td>₹400</td>\n",
       "    </tr>\n",
       "    <tr>\n",
       "      <th>1</th>\n",
       "      <td>Natural Ice Cream</td>\n",
       "      <td>Ice Cream, Desserts</td>\n",
       "      <td>4.0</td>\n",
       "      <td>93 votes</td>\n",
       "      <td>₹300</td>\n",
       "    </tr>\n",
       "    <tr>\n",
       "      <th>2</th>\n",
       "      <td>Jumboking</td>\n",
       "      <td>Burger, Fast Food</td>\n",
       "      <td>4.2</td>\n",
       "      <td>45 votes</td>\n",
       "      <td>₹150</td>\n",
       "    </tr>\n",
       "    <tr>\n",
       "      <th>3</th>\n",
       "      <td>Jai Mata Di Fast Food</td>\n",
       "      <td>Chinese, Fast Food</td>\n",
       "      <td>3.4</td>\n",
       "      <td>16 votes</td>\n",
       "      <td>₹200</td>\n",
       "    </tr>\n",
       "    <tr>\n",
       "      <th>4</th>\n",
       "      <td>Ming Yang</td>\n",
       "      <td>Chinese, Thai</td>\n",
       "      <td>3.8</td>\n",
       "      <td>126 votes</td>\n",
       "      <td>₹950</td>\n",
       "    </tr>\n",
       "  </tbody>\n",
       "</table>\n",
       "</div>"
      ],
      "text/plain": [
       "              Restaurant             Cuisines Ratings      Votes Cost For Two\n",
       "0             McDonald's    Burger, Fast Food     3.9  347 votes         ₹400\n",
       "1      Natural Ice Cream  Ice Cream, Desserts     4.0   93 votes         ₹300\n",
       "2              Jumboking    Burger, Fast Food     4.2   45 votes         ₹150\n",
       "3  Jai Mata Di Fast Food   Chinese, Fast Food     3.4   16 votes         ₹200\n",
       "4              Ming Yang        Chinese, Thai     3.8  126 votes         ₹950"
      ]
     },
     "execution_count": 65,
     "metadata": {},
     "output_type": "execute_result"
    }
   ],
   "source": [
    "data.head()"
   ]
  },
  {
   "cell_type": "code",
   "execution_count": 66,
   "metadata": {},
   "outputs": [
    {
     "data": {
      "text/plain": [
       "(221, 5)"
      ]
     },
     "execution_count": 66,
     "metadata": {},
     "output_type": "execute_result"
    }
   ],
   "source": [
    "data.shape"
   ]
  },
  {
   "cell_type": "markdown",
   "metadata": {},
   "source": [
    "The total entries we got is 221"
   ]
  },
  {
   "cell_type": "code",
   "execution_count": 67,
   "metadata": {},
   "outputs": [
    {
     "data": {
      "text/plain": [
       "array(['3.9', '4.0', '4.2', '3.4', '3.8', '3.7', '3.1', '3.6', '3.5',\n",
       "       '3.3', 'NEW', '2.9', '3.2', '-', '3.0', '2.6', '2.7', '2.5'],\n",
       "      dtype=object)"
      ]
     },
     "execution_count": 67,
     "metadata": {},
     "output_type": "execute_result"
    }
   ],
   "source": [
    "data[\"Ratings\"].unique()"
   ]
  },
  {
   "cell_type": "markdown",
   "metadata": {},
   "source": [
    "As we can see the Ratings column has <b>NEW</b> and <b>-</b> values"
   ]
  },
  {
   "cell_type": "code",
   "execution_count": 68,
   "metadata": {},
   "outputs": [
    {
     "data": {
      "text/plain": [
       "array(['347 votes', '93 votes', '45 votes', '16 votes', '126 votes',\n",
       "       '108 votes', '346 votes', '4 votes', '57 votes', '101 votes',\n",
       "       '51 votes', 'Cuisines: ', '137 votes', '393 votes', '163 votes',\n",
       "       '33 votes', '9 votes', '21 votes', '206 votes', '14 votes',\n",
       "       '103 votes', '63 votes', '71 votes', '32 votes', '25 votes',\n",
       "       '46 votes', '11 votes', '91 votes', '7 votes', '17 votes',\n",
       "       '27 votes', '56 votes', '12 votes', '50 votes', '67 votes',\n",
       "       '18 votes', '13 votes', '5 votes', '8 votes', '191 votes',\n",
       "       '42 votes', '76 votes', '61 votes', '129 votes', '6 votes',\n",
       "       '40 votes', '323 votes', '69 votes', '105 votes', '89 votes',\n",
       "       '97 votes', '158 votes', '38 votes', '60 votes', '24 votes',\n",
       "       '35 votes', '15 votes', '28 votes', '52 votes', '10 votes',\n",
       "       '22 votes', '241 votes', '19 votes', '47 votes', '107 votes',\n",
       "       '82 votes', '49 votes', '62 votes', '118 votes', '53 votes',\n",
       "       '20 votes', '131 votes', '95 votes', '159 votes'], dtype=object)"
      ]
     },
     "execution_count": 68,
     "metadata": {},
     "output_type": "execute_result"
    }
   ],
   "source": [
    "data[\"Votes\"].unique()"
   ]
  },
  {
   "cell_type": "markdown",
   "metadata": {},
   "source": [
    "The Votes column has some values as <b>Cuisines:</b>. This is becaue some restuarants did not contain any votes. "
   ]
  },
  {
   "cell_type": "code",
   "execution_count": 69,
   "metadata": {},
   "outputs": [
    {
     "data": {
      "text/plain": [
       "array(['₹400', '₹300', '₹150', '₹200', '₹950', '₹600', '₹700', '₹350',\n",
       "       '₹500', '₹450', '₹250', '₹750', '₹650', '₹850', '₹1,000', '₹1,600',\n",
       "       '₹900', '₹1,500', '₹800', '₹100', '₹50', '₹1,200', '₹1,300',\n",
       "       '₹550'], dtype=object)"
      ]
     },
     "execution_count": 69,
     "metadata": {},
     "output_type": "execute_result"
    }
   ],
   "source": [
    "data[\"Cost For Two\"].unique()"
   ]
  },
  {
   "cell_type": "markdown",
   "metadata": {},
   "source": [
    "The Cost For Two column has the data in object data type"
   ]
  },
  {
   "cell_type": "markdown",
   "metadata": {},
   "source": [
    "# Data Cleaning"
   ]
  },
  {
   "cell_type": "markdown",
   "metadata": {},
   "source": [
    "I have replaced some irrelevant values "
   ]
  },
  {
   "cell_type": "code",
   "execution_count": 70,
   "metadata": {},
   "outputs": [],
   "source": [
    "#Replace with 0 Ratings\n",
    "data[\"Ratings\"] = numpy.where((data[\"Ratings\"]==\"NEW\") | (data[\"Ratings\"]==\"-\"),0.0,data[\"Ratings\"])"
   ]
  },
  {
   "cell_type": "code",
   "execution_count": 71,
   "metadata": {},
   "outputs": [],
   "source": [
    "#Replace with 0 votes\n",
    "data[\"Votes\"] = numpy.where((data[\"Votes\"]==\"Cuisines: \"),\"0 votes\",data[\"Votes\"])\n",
    "#Removing votes strig and convert to int dtype\n",
    "data['Votes'] = data['Votes'].str.replace(r'\\D+', '').astype('int')"
   ]
  },
  {
   "cell_type": "code",
   "execution_count": 72,
   "metadata": {},
   "outputs": [],
   "source": [
    "#Cleaning the Cost For Two column\n",
    "data['Cost For Two'] = data['Cost For Two'].str.replace(r'\\D+', '').astype('int')"
   ]
  },
  {
   "cell_type": "code",
   "execution_count": 73,
   "metadata": {},
   "outputs": [
    {
     "data": {
      "text/html": [
       "<div>\n",
       "<style scoped>\n",
       "    .dataframe tbody tr th:only-of-type {\n",
       "        vertical-align: middle;\n",
       "    }\n",
       "\n",
       "    .dataframe tbody tr th {\n",
       "        vertical-align: top;\n",
       "    }\n",
       "\n",
       "    .dataframe thead th {\n",
       "        text-align: right;\n",
       "    }\n",
       "</style>\n",
       "<table border=\"1\" class=\"dataframe\">\n",
       "  <thead>\n",
       "    <tr style=\"text-align: right;\">\n",
       "      <th></th>\n",
       "      <th>Restaurant</th>\n",
       "      <th>Cuisines</th>\n",
       "      <th>Ratings</th>\n",
       "      <th>Votes</th>\n",
       "      <th>Cost For Two</th>\n",
       "    </tr>\n",
       "  </thead>\n",
       "  <tbody>\n",
       "    <tr>\n",
       "      <th>0</th>\n",
       "      <td>McDonald's</td>\n",
       "      <td>Burger, Fast Food</td>\n",
       "      <td>3.9</td>\n",
       "      <td>347</td>\n",
       "      <td>400</td>\n",
       "    </tr>\n",
       "    <tr>\n",
       "      <th>1</th>\n",
       "      <td>Natural Ice Cream</td>\n",
       "      <td>Ice Cream, Desserts</td>\n",
       "      <td>4.0</td>\n",
       "      <td>93</td>\n",
       "      <td>300</td>\n",
       "    </tr>\n",
       "    <tr>\n",
       "      <th>2</th>\n",
       "      <td>Jumboking</td>\n",
       "      <td>Burger, Fast Food</td>\n",
       "      <td>4.2</td>\n",
       "      <td>45</td>\n",
       "      <td>150</td>\n",
       "    </tr>\n",
       "    <tr>\n",
       "      <th>3</th>\n",
       "      <td>Jai Mata Di Fast Food</td>\n",
       "      <td>Chinese, Fast Food</td>\n",
       "      <td>3.4</td>\n",
       "      <td>16</td>\n",
       "      <td>200</td>\n",
       "    </tr>\n",
       "    <tr>\n",
       "      <th>4</th>\n",
       "      <td>Ming Yang</td>\n",
       "      <td>Chinese, Thai</td>\n",
       "      <td>3.8</td>\n",
       "      <td>126</td>\n",
       "      <td>950</td>\n",
       "    </tr>\n",
       "    <tr>\n",
       "      <th>5</th>\n",
       "      <td>Domino's Pizza</td>\n",
       "      <td>Pizza, Fast Food</td>\n",
       "      <td>3.8</td>\n",
       "      <td>108</td>\n",
       "      <td>400</td>\n",
       "    </tr>\n",
       "    <tr>\n",
       "      <th>6</th>\n",
       "      <td>Amar Fast Food &amp; Restaurant</td>\n",
       "      <td>Street Food, Chinese, North Indian, Biryani, F...</td>\n",
       "      <td>3.7</td>\n",
       "      <td>346</td>\n",
       "      <td>600</td>\n",
       "    </tr>\n",
       "    <tr>\n",
       "      <th>7</th>\n",
       "      <td>Box Office Cafe Bar and Bistro</td>\n",
       "      <td>North Indian, Chinese, Continental, Fast Food</td>\n",
       "      <td>3.1</td>\n",
       "      <td>4</td>\n",
       "      <td>700</td>\n",
       "    </tr>\n",
       "    <tr>\n",
       "      <th>8</th>\n",
       "      <td>Hunger Ground</td>\n",
       "      <td>North Indian, Chinese</td>\n",
       "      <td>3.7</td>\n",
       "      <td>57</td>\n",
       "      <td>350</td>\n",
       "    </tr>\n",
       "    <tr>\n",
       "      <th>9</th>\n",
       "      <td>Diet With Delight</td>\n",
       "      <td>Chinese, Fast Food, Street Food, Healthy Food,...</td>\n",
       "      <td>3.8</td>\n",
       "      <td>101</td>\n",
       "      <td>350</td>\n",
       "    </tr>\n",
       "  </tbody>\n",
       "</table>\n",
       "</div>"
      ],
      "text/plain": [
       "                       Restaurant  \\\n",
       "0                      McDonald's   \n",
       "1               Natural Ice Cream   \n",
       "2                       Jumboking   \n",
       "3           Jai Mata Di Fast Food   \n",
       "4                       Ming Yang   \n",
       "5                  Domino's Pizza   \n",
       "6     Amar Fast Food & Restaurant   \n",
       "7  Box Office Cafe Bar and Bistro   \n",
       "8                   Hunger Ground   \n",
       "9               Diet With Delight   \n",
       "\n",
       "                                            Cuisines Ratings  Votes  \\\n",
       "0                                  Burger, Fast Food     3.9    347   \n",
       "1                                Ice Cream, Desserts     4.0     93   \n",
       "2                                  Burger, Fast Food     4.2     45   \n",
       "3                                 Chinese, Fast Food     3.4     16   \n",
       "4                                      Chinese, Thai     3.8    126   \n",
       "5                                   Pizza, Fast Food     3.8    108   \n",
       "6  Street Food, Chinese, North Indian, Biryani, F...     3.7    346   \n",
       "7      North Indian, Chinese, Continental, Fast Food     3.1      4   \n",
       "8                              North Indian, Chinese     3.7     57   \n",
       "9  Chinese, Fast Food, Street Food, Healthy Food,...     3.8    101   \n",
       "\n",
       "   Cost For Two  \n",
       "0           400  \n",
       "1           300  \n",
       "2           150  \n",
       "3           200  \n",
       "4           950  \n",
       "5           400  \n",
       "6           600  \n",
       "7           700  \n",
       "8           350  \n",
       "9           350  "
      ]
     },
     "execution_count": 73,
     "metadata": {},
     "output_type": "execute_result"
    }
   ],
   "source": [
    "#Viewing data after cleaning\n",
    "data.iloc[:10,:]"
   ]
  },
  {
   "cell_type": "markdown",
   "metadata": {},
   "source": [
    "Now we will save the data frame data to CSV format which is easily readable."
   ]
  },
  {
   "cell_type": "code",
   "execution_count": 74,
   "metadata": {},
   "outputs": [],
   "source": [
    "data.to_csv(path_or_buf='zomato_res.csv',sep=\",\",index=False,encoding='utf-8')\n",
    "#The above code will create a CSV file named zomato_res."
   ]
  },
  {
   "cell_type": "markdown",
   "metadata": {},
   "source": [
    "# Conclusion\n",
    "Successfully scraped the data from zomato website and saved the data in csv format"
   ]
  }
 ],
 "metadata": {
  "kernelspec": {
   "display_name": "Python 3",
   "language": "python",
   "name": "python3"
  },
  "language_info": {
   "codemirror_mode": {
    "name": "ipython",
    "version": 3
   },
   "file_extension": ".py",
   "mimetype": "text/x-python",
   "name": "python",
   "nbconvert_exporter": "python",
   "pygments_lexer": "ipython3",
   "version": "3.7.3"
  }
 },
 "nbformat": 4,
 "nbformat_minor": 2
}
