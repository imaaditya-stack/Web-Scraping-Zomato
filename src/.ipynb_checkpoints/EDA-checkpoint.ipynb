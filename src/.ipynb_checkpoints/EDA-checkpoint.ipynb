{
 "cells": [
  {
   "cell_type": "markdown",
   "metadata": {},
   "source": [
    "# Exploratory Data Analysis\n",
    "\n",
    "In this notebook i have done EDA on the dataset using Seaborn."
   ]
  },
  {
   "cell_type": "code",
   "execution_count": 3,
   "metadata": {},
   "outputs": [],
   "source": [
    "#importing packages\n",
    "import pandas, numpy\n",
    "import seaborn as sns"
   ]
  },
  {
   "cell_type": "code",
   "execution_count": 4,
   "metadata": {},
   "outputs": [],
   "source": [
    "#Reading data\n",
    "df = pandas.read_csv(r\"C:\\Users\\Aaditya Ghag\\Desktop\\Web-Scraping-Zomato\\data\\zomato_res.csv\",sep=\",\")"
   ]
  },
  {
   "cell_type": "code",
   "execution_count": 5,
   "metadata": {},
   "outputs": [
    {
     "data": {
      "text/html": [
       "<div>\n",
       "<style scoped>\n",
       "    .dataframe tbody tr th:only-of-type {\n",
       "        vertical-align: middle;\n",
       "    }\n",
       "\n",
       "    .dataframe tbody tr th {\n",
       "        vertical-align: top;\n",
       "    }\n",
       "\n",
       "    .dataframe thead th {\n",
       "        text-align: right;\n",
       "    }\n",
       "</style>\n",
       "<table border=\"1\" class=\"dataframe\">\n",
       "  <thead>\n",
       "    <tr style=\"text-align: right;\">\n",
       "      <th></th>\n",
       "      <th>Restaurant</th>\n",
       "      <th>Cuisines</th>\n",
       "      <th>Ratings</th>\n",
       "      <th>Votes</th>\n",
       "      <th>Cost For Two</th>\n",
       "    </tr>\n",
       "  </thead>\n",
       "  <tbody>\n",
       "    <tr>\n",
       "      <th>0</th>\n",
       "      <td>McDonald's</td>\n",
       "      <td>Burger, Fast Food</td>\n",
       "      <td>3.9</td>\n",
       "      <td>347</td>\n",
       "      <td>400</td>\n",
       "    </tr>\n",
       "    <tr>\n",
       "      <th>1</th>\n",
       "      <td>Natural Ice Cream</td>\n",
       "      <td>Ice Cream, Desserts</td>\n",
       "      <td>4.0</td>\n",
       "      <td>93</td>\n",
       "      <td>300</td>\n",
       "    </tr>\n",
       "    <tr>\n",
       "      <th>2</th>\n",
       "      <td>Jumboking</td>\n",
       "      <td>Burger, Fast Food</td>\n",
       "      <td>4.2</td>\n",
       "      <td>45</td>\n",
       "      <td>150</td>\n",
       "    </tr>\n",
       "    <tr>\n",
       "      <th>3</th>\n",
       "      <td>Jai Mata Di Fast Food</td>\n",
       "      <td>Chinese, Fast Food</td>\n",
       "      <td>3.4</td>\n",
       "      <td>16</td>\n",
       "      <td>200</td>\n",
       "    </tr>\n",
       "    <tr>\n",
       "      <th>4</th>\n",
       "      <td>Ming Yang</td>\n",
       "      <td>Chinese, Thai</td>\n",
       "      <td>3.8</td>\n",
       "      <td>126</td>\n",
       "      <td>950</td>\n",
       "    </tr>\n",
       "  </tbody>\n",
       "</table>\n",
       "</div>"
      ],
      "text/plain": [
       "              Restaurant             Cuisines  Ratings  Votes  Cost For Two\n",
       "0             McDonald's    Burger, Fast Food      3.9    347           400\n",
       "1      Natural Ice Cream  Ice Cream, Desserts      4.0     93           300\n",
       "2              Jumboking    Burger, Fast Food      4.2     45           150\n",
       "3  Jai Mata Di Fast Food   Chinese, Fast Food      3.4     16           200\n",
       "4              Ming Yang        Chinese, Thai      3.8    126           950"
      ]
     },
     "execution_count": 5,
     "metadata": {},
     "output_type": "execute_result"
    }
   ],
   "source": [
    "df.head()"
   ]
  },
  {
   "cell_type": "code",
   "execution_count": 7,
   "metadata": {},
   "outputs": [
    {
     "data": {
      "text/html": [
       "<div>\n",
       "<style scoped>\n",
       "    .dataframe tbody tr th:only-of-type {\n",
       "        vertical-align: middle;\n",
       "    }\n",
       "\n",
       "    .dataframe tbody tr th {\n",
       "        vertical-align: top;\n",
       "    }\n",
       "\n",
       "    .dataframe thead th {\n",
       "        text-align: right;\n",
       "    }\n",
       "</style>\n",
       "<table border=\"1\" class=\"dataframe\">\n",
       "  <thead>\n",
       "    <tr style=\"text-align: right;\">\n",
       "      <th></th>\n",
       "      <th>Restaurant</th>\n",
       "      <th>Cuisines</th>\n",
       "      <th>Ratings</th>\n",
       "      <th>Votes</th>\n",
       "      <th>Cost For Two</th>\n",
       "    </tr>\n",
       "  </thead>\n",
       "  <tbody>\n",
       "    <tr>\n",
       "      <th>216</th>\n",
       "      <td>Hotel Shiv Krupa</td>\n",
       "      <td>Maharashtrian</td>\n",
       "      <td>0.0</td>\n",
       "      <td>0</td>\n",
       "      <td>250</td>\n",
       "    </tr>\n",
       "    <tr>\n",
       "      <th>217</th>\n",
       "      <td>Dolphin Club</td>\n",
       "      <td>North Indian, South Indian, Chinese</td>\n",
       "      <td>0.0</td>\n",
       "      <td>0</td>\n",
       "      <td>1000</td>\n",
       "    </tr>\n",
       "    <tr>\n",
       "      <th>218</th>\n",
       "      <td>Sai Fast Food</td>\n",
       "      <td>Chinese, Momos</td>\n",
       "      <td>0.0</td>\n",
       "      <td>0</td>\n",
       "      <td>200</td>\n",
       "    </tr>\n",
       "    <tr>\n",
       "      <th>219</th>\n",
       "      <td>The Food Garage</td>\n",
       "      <td>Fast Food, Chinese</td>\n",
       "      <td>0.0</td>\n",
       "      <td>0</td>\n",
       "      <td>200</td>\n",
       "    </tr>\n",
       "    <tr>\n",
       "      <th>220</th>\n",
       "      <td>Tequila N Spices</td>\n",
       "      <td>Bar Food, North Indian, Fast Food</td>\n",
       "      <td>0.0</td>\n",
       "      <td>0</td>\n",
       "      <td>1000</td>\n",
       "    </tr>\n",
       "  </tbody>\n",
       "</table>\n",
       "</div>"
      ],
      "text/plain": [
       "           Restaurant                             Cuisines  Ratings  Votes  \\\n",
       "216  Hotel Shiv Krupa                        Maharashtrian      0.0      0   \n",
       "217      Dolphin Club  North Indian, South Indian, Chinese      0.0      0   \n",
       "218     Sai Fast Food                       Chinese, Momos      0.0      0   \n",
       "219   The Food Garage                   Fast Food, Chinese      0.0      0   \n",
       "220  Tequila N Spices    Bar Food, North Indian, Fast Food      0.0      0   \n",
       "\n",
       "     Cost For Two  \n",
       "216           250  \n",
       "217          1000  \n",
       "218           200  \n",
       "219           200  \n",
       "220          1000  "
      ]
     },
     "execution_count": 7,
     "metadata": {},
     "output_type": "execute_result"
    }
   ],
   "source": [
    "df.tail()"
   ]
  },
  {
   "cell_type": "code",
   "execution_count": 8,
   "metadata": {},
   "outputs": [
    {
     "data": {
      "text/html": [
       "<div>\n",
       "<style scoped>\n",
       "    .dataframe tbody tr th:only-of-type {\n",
       "        vertical-align: middle;\n",
       "    }\n",
       "\n",
       "    .dataframe tbody tr th {\n",
       "        vertical-align: top;\n",
       "    }\n",
       "\n",
       "    .dataframe thead th {\n",
       "        text-align: right;\n",
       "    }\n",
       "</style>\n",
       "<table border=\"1\" class=\"dataframe\">\n",
       "  <thead>\n",
       "    <tr style=\"text-align: right;\">\n",
       "      <th></th>\n",
       "      <th>Ratings</th>\n",
       "      <th>Votes</th>\n",
       "      <th>Cost For Two</th>\n",
       "    </tr>\n",
       "  </thead>\n",
       "  <tbody>\n",
       "    <tr>\n",
       "      <th>count</th>\n",
       "      <td>221.000000</td>\n",
       "      <td>221.000000</td>\n",
       "      <td>221.000000</td>\n",
       "    </tr>\n",
       "    <tr>\n",
       "      <th>mean</th>\n",
       "      <td>2.014932</td>\n",
       "      <td>31.126697</td>\n",
       "      <td>421.719457</td>\n",
       "    </tr>\n",
       "    <tr>\n",
       "      <th>std</th>\n",
       "      <td>1.644468</td>\n",
       "      <td>60.007365</td>\n",
       "      <td>275.192054</td>\n",
       "    </tr>\n",
       "    <tr>\n",
       "      <th>min</th>\n",
       "      <td>0.000000</td>\n",
       "      <td>0.000000</td>\n",
       "      <td>50.000000</td>\n",
       "    </tr>\n",
       "    <tr>\n",
       "      <th>25%</th>\n",
       "      <td>0.000000</td>\n",
       "      <td>0.000000</td>\n",
       "      <td>250.000000</td>\n",
       "    </tr>\n",
       "    <tr>\n",
       "      <th>50%</th>\n",
       "      <td>3.100000</td>\n",
       "      <td>9.000000</td>\n",
       "      <td>350.000000</td>\n",
       "    </tr>\n",
       "    <tr>\n",
       "      <th>75%</th>\n",
       "      <td>3.400000</td>\n",
       "      <td>35.000000</td>\n",
       "      <td>500.000000</td>\n",
       "    </tr>\n",
       "    <tr>\n",
       "      <th>max</th>\n",
       "      <td>4.200000</td>\n",
       "      <td>393.000000</td>\n",
       "      <td>1600.000000</td>\n",
       "    </tr>\n",
       "  </tbody>\n",
       "</table>\n",
       "</div>"
      ],
      "text/plain": [
       "          Ratings       Votes  Cost For Two\n",
       "count  221.000000  221.000000    221.000000\n",
       "mean     2.014932   31.126697    421.719457\n",
       "std      1.644468   60.007365    275.192054\n",
       "min      0.000000    0.000000     50.000000\n",
       "25%      0.000000    0.000000    250.000000\n",
       "50%      3.100000    9.000000    350.000000\n",
       "75%      3.400000   35.000000    500.000000\n",
       "max      4.200000  393.000000   1600.000000"
      ]
     },
     "execution_count": 8,
     "metadata": {},
     "output_type": "execute_result"
    }
   ],
   "source": [
    "df.describe()"
   ]
  },
  {
   "cell_type": "code",
   "execution_count": 9,
   "metadata": {},
   "outputs": [
    {
     "name": "stdout",
     "output_type": "stream",
     "text": [
      "<class 'pandas.core.frame.DataFrame'>\n",
      "RangeIndex: 221 entries, 0 to 220\n",
      "Data columns (total 5 columns):\n",
      "Restaurant      221 non-null object\n",
      "Cuisines        221 non-null object\n",
      "Ratings         221 non-null float64\n",
      "Votes           221 non-null int64\n",
      "Cost For Two    221 non-null int64\n",
      "dtypes: float64(1), int64(2), object(2)\n",
      "memory usage: 8.7+ KB\n"
     ]
    }
   ],
   "source": [
    "df.info()"
   ]
  },
  {
   "cell_type": "code",
   "execution_count": 10,
   "metadata": {},
   "outputs": [
    {
     "data": {
      "text/plain": [
       "<matplotlib.axes._subplots.AxesSubplot at 0x1689682bc50>"
      ]
     },
     "execution_count": 10,
     "metadata": {},
     "output_type": "execute_result"
    },
    {
     "data": {
      "image/png": "[encoded data removed]",
      "text/plain": [
       "<Figure size 432x288 with 1 Axes>"
      ]
     },
     "metadata": {
      "needs_background": "light"
     },
     "output_type": "display_data"
    }
   ],
   "source": [
    "sns.boxplot(df[\"Ratings\"])"
   ]
  },
  {
   "cell_type": "code",
   "execution_count": 11,
   "metadata": {},
   "outputs": [
    {
     "data": {
      "text/plain": [
       "<matplotlib.axes._subplots.AxesSubplot at 0x16896b57978>"
      ]
     },
     "execution_count": 11,
     "metadata": {},
     "output_type": "execute_result"
    },
    {
     "data": {
      "image/png": "[encoded data removed]",
      "text/plain": [
       "<Figure size 432x288 with 1 Axes>"
      ]
     },
     "metadata": {
      "needs_background": "light"
     },
     "output_type": "display_data"
    }
   ],
   "source": [
    "sns.boxplot(df[\"Votes\"])"
   ]
  },
  {
   "cell_type": "code",
   "execution_count": 15,
   "metadata": {},
   "outputs": [
    {
     "name": "stdout",
     "output_type": "stream",
     "text": [
      "Collecting wordcloud\n",
      "  Downloading https://files.pythonhosted.org/packages/96/36/f712ec19c6e253d27c5cae0d45a4a465ebb5ccf0cb26887a6a3127d13769/wordcloud-1.6.0-cp37-cp37m-win_amd64.whl (153kB)\n",
      "Requirement already satisfied: matplotlib in c:\\users\\aaditya ghag\\anaconda3\\lib\\site-packages (from wordcloud) (3.1.0)\n",
      "Requirement already satisfied: numpy>=1.6.1 in c:\\users\\aaditya ghag\\anaconda3\\lib\\site-packages (from wordcloud) (1.16.4)\n",
      "Requirement already satisfied: pillow in c:\\users\\aaditya ghag\\anaconda3\\lib\\site-packages (from wordcloud) (6.1.0)\n",
      "Requirement already satisfied: cycler>=0.10 in c:\\users\\aaditya ghag\\anaconda3\\lib\\site-packages (from matplotlib->wordcloud) (0.10.0)\n",
      "Requirement already satisfied: kiwisolver>=1.0.1 in c:\\users\\aaditya ghag\\anaconda3\\lib\\site-packages (from matplotlib->wordcloud) (1.1.0)\n",
      "Requirement already satisfied: pyparsing!=2.0.4,!=2.1.2,!=2.1.6,>=2.0.1 in c:\\users\\aaditya ghag\\anaconda3\\lib\\site-packages (from matplotlib->wordcloud) (2.4.0)\n",
      "Requirement already satisfied: python-dateutil>=2.1 in c:\\users\\aaditya ghag\\anaconda3\\lib\\site-packages (from matplotlib->wordcloud) (2.8.0)\n",
      "Requirement already satisfied: six in c:\\users\\aaditya ghag\\anaconda3\\lib\\site-packages (from cycler>=0.10->matplotlib->wordcloud) (1.12.0)\n",
      "Requirement already satisfied: setuptools in c:\\users\\aaditya ghag\\anaconda3\\lib\\site-packages (from kiwisolver>=1.0.1->matplotlib->wordcloud) (41.0.1)\n",
      "Installing collected packages: wordcloud\n",
      "Successfully installed wordcloud-1.6.0\n"
     ]
    }
   ],
   "source": [
    "#!pip install wordcloud"
   ]
  },
  {
   "cell_type": "markdown",
   "metadata": {},
   "source": [
    "# Wordcloud for the Cuisine Feature"
   ]
  },
  {
   "cell_type": "code",
   "execution_count": 18,
   "metadata": {},
   "outputs": [
    {
     "data": {
      "image/png": "[encoded data removed]",
      "text/plain": [
       "<Figure size 360x360 with 1 Axes>"
      ]
     },
     "metadata": {
      "needs_background": "light"
     },
     "output_type": "display_data"
    }
   ],
   "source": [
    "from wordcloud import WordCloud, STOPWORDS \n",
    "import matplotlib.pyplot as plt \n",
    "  \n",
    "comment_words = ' '\n",
    "stopwords = set(STOPWORDS) \n",
    "  \n",
    "# iterate through the csv file \n",
    "for val in df.Cuisines: \n",
    "      \n",
    "    # typecaste each val to string \n",
    "    val = str(val) \n",
    "  \n",
    "    # split the value \n",
    "    tokens = val.split() \n",
    "      \n",
    "    # Converts each token into lowercase \n",
    "    for i in range(len(tokens)): \n",
    "        tokens[i] = tokens[i].lower() \n",
    "          \n",
    "    for words in tokens: \n",
    "        comment_words = comment_words + words + ' '\n",
    "  \n",
    "  \n",
    "wordcloud = WordCloud(width = 800, height = 800, \n",
    "                background_color ='white', \n",
    "                stopwords = stopwords, \n",
    "                min_font_size = 10).generate(comment_words) \n",
    "  \n",
    "# plot the WordCloud image                        \n",
    "plt.figure(figsize = (5, 5), facecolor = None) \n",
    "plt.imshow(wordcloud) \n",
    "plt.axis(\"off\") \n",
    "plt.tight_layout(pad = 0) \n",
    "  \n",
    "plt.show() "
   ]
  },
  {
   "cell_type": "markdown",
   "metadata": {},
   "source": [
    "## Restaurant having maximum Cuisines"
   ]
  },
  {
   "cell_type": "code",
   "execution_count": 51,
   "metadata": {},
   "outputs": [
    {
     "data": {
      "text/plain": [
       "'Amar Fast Food & Restaurant'"
      ]
     },
     "execution_count": 51,
     "metadata": {},
     "output_type": "execute_result"
    }
   ],
   "source": [
    "df[\"Restaurant\"][df[\"Cuisines\"]==max(df[\"Cuisines\"])].values[0]"
   ]
  },
  {
   "cell_type": "markdown",
   "metadata": {},
   "source": [
    "## Restaurant having minimum Cuisines"
   ]
  },
  {
   "cell_type": "code",
   "execution_count": 53,
   "metadata": {},
   "outputs": [
    {
     "data": {
      "text/plain": [
       "'Ymir'"
      ]
     },
     "execution_count": 53,
     "metadata": {},
     "output_type": "execute_result"
    }
   ],
   "source": [
    "df[\"Restaurant\"][df[\"Cuisines\"]==min(df[\"Cuisines\"])].values[0]"
   ]
  },
  {
   "cell_type": "markdown",
   "metadata": {},
   "source": [
    "## Restaurant having maximum Ratings"
   ]
  },
  {
   "cell_type": "code",
   "execution_count": 55,
   "metadata": {},
   "outputs": [
    {
     "data": {
      "text/plain": [
       "'Jumboking'"
      ]
     },
     "execution_count": 55,
     "metadata": {},
     "output_type": "execute_result"
    }
   ],
   "source": [
    "df[\"Restaurant\"][df[\"Ratings\"]==max(df[\"Ratings\"])].values[0]"
   ]
  },
  {
   "cell_type": "markdown",
   "metadata": {},
   "source": [
    "## Restaurants having minimum Ratings"
   ]
  },
  {
   "cell_type": "code",
   "execution_count": 57,
   "metadata": {},
   "outputs": [
    {
     "name": "stdout",
     "output_type": "stream",
     "text": [
      "['Kulfi Village', 'SK Chinese Food Point', 'Kitchen King', 'Chahapaani', 'Guru Fast Food', 'The Fuel', 'Royal Cakes', 'Diamond Hotel', 'China Town Chinese Corner', 'Guru Da Dhaba', 'Hotel Abhishek', 'Annapurna Classic Restaurant', 'Shree Ganesh Chinese Corner', 'Exotic Flavours', 'Swami Sandwich', 'Creambell', 'The Brooklyn Creamery', 'Elixir Bistro Cafe', 'Be Hungry', 'Krishna Glory Restaurant And Ice Cream Corner', 'Garib Nawaz Hotel And Caterers', 'Chow Ming', 'JFC Jahagirdar Chinese', 'Souffle', 'Bollywood Chinese Restaurant', 'Tasty Cafe', 'Coffee Dates', 'Urban Desi', 'Krazy Bites', 'Hotel Ashoka Restaurant And Bar', 'Twinkling Cakes', 'Jai Balaji Nasta House', 'Guru Fast Food', 'Annu Bakes', 'Bismillah Juice Centre Thick Shakes & Ice Cream', '1975 The Chicken Company', 'Spicy Fusion', 'Cheers Family Restaurant And Bar', 'Bashamal Nasta House', 'Narayan Food Court', \"Shankar Dalwala's - New Delhi Nasta House\", 'KSP Kitchen Spices Restaurant', 'Aashirwad Hotel', 'Annus Snacks Shelter', 'Shyam Sunder Sweets', 'New Bangalore Iyengar Bakery', \"Sachin's Family Restaurant\", 'Bollywood Cafe And Juice Bar', 'Good Time Cafe', 'Maharaja Fresh & Tasty Food', 'Kishan Pav Bhaji', 'Silly Mittens', 'Vasudev Chaat Corner', 'Hari Om Sweets & Dry Fruits The Cake Shop', \"Jewel's Resto Bar\", 'The Cake Ferry', 'Moms Family Restaurant', 'Jai Shankar Jumbo Vada Pav', 'New Sangam Restaurant', \"Hiren's Point\", 'Ramayan Hotel', 'Shyam Sunder Sweets', 'Chilly Kebab Parcel Kitchen', 'Nirmala Pawan Juice Centre', 'Shalimar Hotel', 'Veg Non veg Gurudev Hotel', 'SB Kulfi', \"Superb's Kitchen\", 'Dev Plaza Restaurant & Bar', 'Gurunanik Restaurant And Dairy Farm', 'Sojhromal Food Jalsa', 'Mj Fast Foods', 'City Snacks Kulfi & Faluda', 'IFC Family Restaurant', 'Thakurdas Nasta House', 'Ymir', 'Ramesh The Cake Shop', 'Sai Sandwhich', \"KC's Kiara Cafe\", 'Ninety Degrees', 'Alpha Juice & Snacks', 'Sakshi Restaurant', 'Hotel Shiv Krupa', 'Dolphin Club', 'Sai Fast Food', 'The Food Garage', 'Tequila N Spices']\n"
     ]
    }
   ],
   "source": [
    "print(list(df[\"Restaurant\"][df[\"Ratings\"]==min(df[\"Ratings\"])].values))"
   ]
  },
  {
   "cell_type": "markdown",
   "metadata": {},
   "source": [
    "## Restaurant having maximum Votes"
   ]
  },
  {
   "cell_type": "code",
   "execution_count": 44,
   "metadata": {},
   "outputs": [
    {
     "data": {
      "text/plain": [
       "'Roti N'"
      ]
     },
     "execution_count": 44,
     "metadata": {},
     "output_type": "execute_result"
    }
   ],
   "source": [
    "df[\"Restaurant\"][df[\"Votes\"]==max(df[\"Votes\"])].values[0]"
   ]
  },
  {
   "cell_type": "markdown",
   "metadata": {},
   "source": [
    "## Restaurants having minimum Votes"
   ]
  },
  {
   "cell_type": "code",
   "execution_count": 46,
   "metadata": {},
   "outputs": [
    {
     "name": "stdout",
     "output_type": "stream",
     "text": [
      "['Hotel Ballaleshwar', 'Kulfi Village', 'SK Chinese Food Point', 'Kitchen King', 'Chahapaani', 'Guru Fast Food', 'The Fuel', 'Royal Cakes', 'Diamond Hotel', 'China Town Chinese Corner', 'Guru Da Dhaba', 'Hotel Abhishek', 'Annapurna Classic Restaurant', 'Shree Ganesh Chinese Corner', 'Exotic Flavours', 'Swami Sandwich', 'Creambell', 'The Brooklyn Creamery', 'Elixir Bistro Cafe', 'Be Hungry', 'Krishna Glory Restaurant And Ice Cream Corner', 'Garib Nawaz Hotel And Caterers', 'Chow Ming', 'JFC Jahagirdar Chinese', 'Souffle', 'Bollywood Chinese Restaurant', 'Tasty Cafe', 'Coffee Dates', 'Urban Desi', 'Krazy Bites', 'Hotel Ashoka Restaurant And Bar', 'Twinkling Cakes', 'Jai Balaji Nasta House', 'Guru Fast Food', 'Annu Bakes', 'Bismillah Juice Centre Thick Shakes & Ice Cream', '1975 The Chicken Company', 'Spicy Fusion', 'Cheers Family Restaurant And Bar', 'Bashamal Nasta House', 'Narayan Food Court', \"Shankar Dalwala's - New Delhi Nasta House\", 'KSP Kitchen Spices Restaurant', 'Aashirwad Hotel', 'Annus Snacks Shelter', 'Shyam Sunder Sweets', 'New Bangalore Iyengar Bakery', \"Sachin's Family Restaurant\", 'Bollywood Cafe And Juice Bar', 'Good Time Cafe', 'Maharaja Fresh & Tasty Food', 'Kishan Pav Bhaji', 'Silly Mittens', 'Vasudev Chaat Corner', 'Hari Om Sweets & Dry Fruits The Cake Shop', \"Jewel's Resto Bar\", 'The Cake Ferry', 'Moms Family Restaurant', 'Jai Shankar Jumbo Vada Pav', 'New Sangam Restaurant', \"Hiren's Point\", 'Ramayan Hotel', 'Shyam Sunder Sweets', 'Chilly Kebab Parcel Kitchen', 'Nirmala Pawan Juice Centre', 'Shalimar Hotel', 'Veg Non veg Gurudev Hotel', 'SB Kulfi', \"Superb's Kitchen\", 'Dev Plaza Restaurant & Bar', 'Gurunanik Restaurant And Dairy Farm', 'Sojhromal Food Jalsa', 'Mj Fast Foods', 'City Snacks Kulfi & Faluda', 'IFC Family Restaurant', 'Thakurdas Nasta House', 'Ymir', 'Ramesh The Cake Shop', 'Sai Sandwhich', \"KC's Kiara Cafe\", 'Ninety Degrees', 'Alpha Juice & Snacks', 'Sakshi Restaurant', 'Hotel Shiv Krupa', 'Dolphin Club', 'Sai Fast Food', 'The Food Garage', 'Tequila N Spices']\n"
     ]
    }
   ],
   "source": [
    "print(list(df[\"Restaurant\"][df[\"Votes\"]==min(df[\"Votes\"])].values))"
   ]
  },
  {
   "cell_type": "markdown",
   "metadata": {},
   "source": [
    "## Let see the top 5 restaurants having Chinese Cuisine"
   ]
  },
  {
   "cell_type": "code",
   "execution_count": 84,
   "metadata": {},
   "outputs": [
    {
     "data": {
      "text/html": [
       "<div>\n",
       "<style scoped>\n",
       "    .dataframe tbody tr th:only-of-type {\n",
       "        vertical-align: middle;\n",
       "    }\n",
       "\n",
       "    .dataframe tbody tr th {\n",
       "        vertical-align: top;\n",
       "    }\n",
       "\n",
       "    .dataframe thead th {\n",
       "        text-align: right;\n",
       "    }\n",
       "</style>\n",
       "<table border=\"1\" class=\"dataframe\">\n",
       "  <thead>\n",
       "    <tr style=\"text-align: right;\">\n",
       "      <th></th>\n",
       "      <th>Restaurant</th>\n",
       "    </tr>\n",
       "  </thead>\n",
       "  <tbody>\n",
       "    <tr>\n",
       "      <th>0</th>\n",
       "      <td>Krunk</td>\n",
       "    </tr>\n",
       "    <tr>\n",
       "      <th>1</th>\n",
       "      <td>Ming Yang</td>\n",
       "    </tr>\n",
       "    <tr>\n",
       "      <th>2</th>\n",
       "      <td>Diet With Delight</td>\n",
       "    </tr>\n",
       "    <tr>\n",
       "      <th>3</th>\n",
       "      <td>Hotel Palace Family Restaurant and Bar</td>\n",
       "    </tr>\n",
       "    <tr>\n",
       "      <th>4</th>\n",
       "      <td>Relish</td>\n",
       "    </tr>\n",
       "  </tbody>\n",
       "</table>\n",
       "</div>"
      ],
      "text/plain": [
       "                               Restaurant\n",
       "0                                   Krunk\n",
       "1                               Ming Yang\n",
       "2                       Diet With Delight\n",
       "3  Hotel Palace Family Restaurant and Bar\n",
       "4                                  Relish"
      ]
     },
     "execution_count": 84,
     "metadata": {},
     "output_type": "execute_result"
    }
   ],
   "source": [
    "indices = []\n",
    "for i,cuisine in enumerate(df[\"Cuisines\"]):\n",
    "    if \"Chinese\" in cuisine:\n",
    "        indices.append(i)\n",
    "\n",
    "df.iloc[indices,:].sort_values(\"Ratings\",axis=0,ascending=False).reset_index(drop=True).iloc[:5,:1]"
   ]
  }
 ],
 "metadata": {
  "kernelspec": {
   "display_name": "Python 3",
   "language": "python",
   "name": "python3"
  },
  "language_info": {
   "codemirror_mode": {
    "name": "ipython",
    "version": 3
   },
   "file_extension": ".py",
   "mimetype": "text/x-python",
   "name": "python",
   "nbconvert_exporter": "python",
   "pygments_lexer": "ipython3",
   "version": "3.7.3"
  }
 },
 "nbformat": 4,
 "nbformat_minor": 2
}
